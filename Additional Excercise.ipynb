{
 "cells": [
  {
   "cell_type": "code",
   "execution_count": 1,
   "metadata": {},
   "outputs": [
    {
     "name": "stdout",
     "output_type": "stream",
     "text": [
      "acadgildacadgildacadgildacadgildacadgild\n"
     ]
    }
   ],
   "source": [
    "#:-Mukesh Kumar Sanodiya\n",
    "#:-19-Dec-2018\n",
    "#1) The function \"echo_name\" takes 2 parameters: a string value, \"name1\"and\n",
    "    #an integer value, \"echo_int\". It returns a string that is a concatenation of\n",
    "    #\"echo_int\" copies of \"name1\".Your task is to convert this simple function into a lambda function.\n",
    "#Instructions:\n",
    "    #Define the lambda function \"echo_name\" using the variables \"name1\" and \"\n",
    "    #echo_int\". Replicate what the original function definition for \"echo_name ()\" does above.\n",
    "    #Call \"echo_name ()\" with the string argument 'acadgild' and the value 5,in that order. Assign the call to result\n",
    "#Expected Output\n",
    "    #acadgildacadgildacadgildacadgildacadgild\n",
    "    \n",
    "# Define a lambda function: echo_name\n",
    "echo_name = lambda c,n: c*n\n",
    "# Call echo_name with parameters (\"acadgild\",5)\n",
    "result = echo_name (\"acadgild\",5)\n",
    "# Print result\n",
    "print(result)"
   ]
  },
  {
   "cell_type": "code",
   "execution_count": null,
   "metadata": {},
   "outputs": [],
   "source": []
  },
  {
   "cell_type": "code",
   "execution_count": 7,
   "metadata": {},
   "outputs": [
    {
     "name": "stdout",
     "output_type": "stream",
     "text": [
      "[120.56, 79.7, 117.14, 118.03999999999999]\n"
     ]
    }
   ],
   "source": [
    "#:-Mukesh Kumar Sanodiya\n",
    "#:-19-Dec-2018\n",
    "#:-2) Convert temperature in Celsius to Fahrenheit using map() and lambda functions\n",
    "#:-Sample input\n",
    "# Celsius = [49.2, 26.5, 47.3, 47.8]\n",
    "# Expected Output\n",
    "# [120.56, 79.7, 117.14, 118.03999999999999]\n",
    "\n",
    "def fahrenheit(T):\n",
    "    return ((float(9)/5)*T + 32)\n",
    "# Initialize list\n",
    "Celsius = [49.2, 26.5, 47.3, 47.8]\n",
    "\n",
    "#use map() and lambda,convert to Fahrenheit\n",
    "#map(function,list)\n",
    "Fahrenheit = list(map(fahrenheit, Celsius))\n",
    "#print Fahrenheit\n",
    "print(Fahrenheit)\n"
   ]
  },
  {
   "cell_type": "code",
   "execution_count": 2,
   "metadata": {},
   "outputs": [
    {
     "name": "stdout",
     "output_type": "stream",
     "text": [
      "Enter any letters: Welcome to AcadGild\n",
      "['e', 'o', 'e', 'o', 'a', 'i']\n"
     ]
    }
   ],
   "source": [
    "#:-Mukesh Kumar Sanodiya\n",
    "#:-19-Dec-2018\n",
    "#:-3) The function filter(function, list) filters out all the elements of a list, for\n",
    "#:-which the function function returns True.\n",
    "    #The function filter(f,l) needs a function f as its first argument. f re\n",
    "    #turns a Boolean value, i.e. either True or False. This function will be\n",
    "    #applied to every element of the list l. Only if f returns True will the\n",
    "    #element of the list be included in the result list\n",
    "    #Q. print the letters that are vowels using filter and lambda functions\n",
    "    #sample_string = \"Welcome to AcadGild\"\n",
    "def Check_Vow(string, vowels): \n",
    "    final = [each for each in string if each in vowels] \n",
    "    print(final)\n",
    "\n",
    "mystr = input(\"Enter any letters: \")\n",
    "\n",
    "vowels = set('aeiou')\n",
    "\n",
    "Check_Vow(mystr,vowels)\n",
    "\n"
   ]
  },
  {
   "cell_type": "code",
   "execution_count": 13,
   "metadata": {},
   "outputs": [
    {
     "name": "stdout",
     "output_type": "stream",
     "text": [
      "Enter any String: 123@Welc34ometo12@ac#adGild\n",
      "WelcometoacadGild\n"
     ]
    }
   ],
   "source": [
    "#:-Mukesh Kumar Sanodiya\n",
    "#:-19-Dec-2018\n",
    "#:- 4) Use generator expression to print out only alphabets from the followingstring\n",
    "        #string = \"123@Welc34ometo12@ac#adGild\"\n",
    "string=input(\"Enter any String: \")\n",
    "count=0\n",
    "newstring=\"\"\n",
    "for a in string: \n",
    "    if (a.isalpha()) == True: \n",
    "        newstring+=a  \n",
    "print(newstring) "
   ]
  },
  {
   "cell_type": "code",
   "execution_count": 16,
   "metadata": {},
   "outputs": [
    {
     "name": "stdout",
     "output_type": "stream",
     "text": [
      "Feburary\n"
     ]
    }
   ],
   "source": [
    "#:-Mukesh Kumar Sanodiya\n",
    "#:-19-Dec-2018\n",
    "#:- 5) Implement a function longestWord() that takes a list of words and returns the longest one.\n",
    "        #Sample Word List        #word= [\"January\",\"Feburary\",\"March\",\"April\",\"May\",\"June\",\"July\"]\n",
    "        #Expected Output        #['Feburary']\n",
    "words_list= [\"January\",\"Feburary\",\"March\",\"April\",\"May\",\"June\",\"July\"]\n",
    "def find_longest_word(words_list):\n",
    "    word_len = []\n",
    "    for n in words_list:\n",
    "           word_len.append((len(n), n))\n",
    "    word_len.sort()\n",
    "    return word_len[-1][1]\n",
    "print(find_longest_word(words_list))\n"
   ]
  },
  {
   "cell_type": "code",
   "execution_count": null,
   "metadata": {},
   "outputs": [],
   "source": []
  }
 ],
 "metadata": {
  "kernelspec": {
   "display_name": "Python 3",
   "language": "python",
   "name": "python3"
  },
  "language_info": {
   "codemirror_mode": {
    "name": "ipython",
    "version": 3
   },
   "file_extension": ".py",
   "mimetype": "text/x-python",
   "name": "python",
   "nbconvert_exporter": "python",
   "pygments_lexer": "ipython3",
   "version": "3.7.0"
  }
 },
 "nbformat": 4,
 "nbformat_minor": 2
}
